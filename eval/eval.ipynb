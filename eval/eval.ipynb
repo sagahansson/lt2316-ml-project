{
 "cells": [
  {
   "cell_type": "code",
   "execution_count": 32,
   "id": "1d362d38",
   "metadata": {},
   "outputs": [],
   "source": [
    "import pandas as pd\n",
    "import matplotlib.pyplot as plt\n",
    "import numpy as np\n",
    "from nltk import agreement\n",
    "from statsmodels import stats"
   ]
  },
  {
   "cell_type": "code",
   "execution_count": 33,
   "id": "3e0dcac3",
   "metadata": {},
   "outputs": [],
   "source": [
    "df = pd.read_csv(\"./eval-responses.csv\")"
   ]
  },
  {
   "cell_type": "code",
   "execution_count": 3,
   "id": "3ba5abf4",
   "metadata": {},
   "outputs": [],
   "source": [
    "df.columns = ['Timestamp', 'm5gru', 'm1lstm', 'm2lstm', 'm6gru', 'm5lstm', 'm4gru', 'm1gru', 'bukowski', 'm4lstm', \n",
    "              'm3lstm', 'piercy', 'm8gru', 'm8lstm', 'mcmorris', 'm3gru', 'm6lstm', 'm2gru', 'myles']"
   ]
  },
  {
   "cell_type": "code",
   "execution_count": 4,
   "id": "660ee1f1",
   "metadata": {},
   "outputs": [
    {
     "data": {
      "text/html": [
       "<div>\n",
       "<style scoped>\n",
       "    .dataframe tbody tr th:only-of-type {\n",
       "        vertical-align: middle;\n",
       "    }\n",
       "\n",
       "    .dataframe tbody tr th {\n",
       "        vertical-align: top;\n",
       "    }\n",
       "\n",
       "    .dataframe thead th {\n",
       "        text-align: right;\n",
       "    }\n",
       "</style>\n",
       "<table border=\"1\" class=\"dataframe\">\n",
       "  <thead>\n",
       "    <tr style=\"text-align: right;\">\n",
       "      <th></th>\n",
       "      <th>Timestamp</th>\n",
       "      <th>m5gru</th>\n",
       "      <th>m1lstm</th>\n",
       "      <th>m2lstm</th>\n",
       "      <th>m6gru</th>\n",
       "      <th>m5lstm</th>\n",
       "      <th>m4gru</th>\n",
       "      <th>m1gru</th>\n",
       "      <th>bukowski</th>\n",
       "      <th>m4lstm</th>\n",
       "      <th>m3lstm</th>\n",
       "      <th>piercy</th>\n",
       "      <th>m8gru</th>\n",
       "      <th>m8lstm</th>\n",
       "      <th>mcmorris</th>\n",
       "      <th>m3gru</th>\n",
       "      <th>m6lstm</th>\n",
       "      <th>m2gru</th>\n",
       "      <th>myles</th>\n",
       "    </tr>\n",
       "  </thead>\n",
       "  <tbody>\n",
       "    <tr>\n",
       "      <th>0</th>\n",
       "      <td>15/10/2021 16:59:57</td>\n",
       "      <td>Yes</td>\n",
       "      <td>No</td>\n",
       "      <td>Yes</td>\n",
       "      <td>Yes</td>\n",
       "      <td>Maybe</td>\n",
       "      <td>Maybe</td>\n",
       "      <td>No</td>\n",
       "      <td>No</td>\n",
       "      <td>Maybe</td>\n",
       "      <td>Yes</td>\n",
       "      <td>Maybe</td>\n",
       "      <td>Yes</td>\n",
       "      <td>Maybe</td>\n",
       "      <td>No</td>\n",
       "      <td>Yes</td>\n",
       "      <td>Maybe</td>\n",
       "      <td>Maybe</td>\n",
       "      <td>No</td>\n",
       "    </tr>\n",
       "    <tr>\n",
       "      <th>1</th>\n",
       "      <td>15/10/2021 17:01:34</td>\n",
       "      <td>Yes</td>\n",
       "      <td>No</td>\n",
       "      <td>No</td>\n",
       "      <td>Maybe</td>\n",
       "      <td>Maybe</td>\n",
       "      <td>Yes</td>\n",
       "      <td>No</td>\n",
       "      <td>Yes</td>\n",
       "      <td>Maybe</td>\n",
       "      <td>Maybe</td>\n",
       "      <td>Yes</td>\n",
       "      <td>No</td>\n",
       "      <td>Maybe</td>\n",
       "      <td>Yes</td>\n",
       "      <td>Maybe</td>\n",
       "      <td>Maybe</td>\n",
       "      <td>Maybe</td>\n",
       "      <td>Yes</td>\n",
       "    </tr>\n",
       "    <tr>\n",
       "      <th>2</th>\n",
       "      <td>15/10/2021 17:48:07</td>\n",
       "      <td>Yes</td>\n",
       "      <td>Maybe</td>\n",
       "      <td>No</td>\n",
       "      <td>Maybe</td>\n",
       "      <td>Maybe</td>\n",
       "      <td>Maybe</td>\n",
       "      <td>Maybe</td>\n",
       "      <td>Yes</td>\n",
       "      <td>Yes</td>\n",
       "      <td>Yes</td>\n",
       "      <td>Yes</td>\n",
       "      <td>Yes</td>\n",
       "      <td>Maybe</td>\n",
       "      <td>Yes</td>\n",
       "      <td>Yes</td>\n",
       "      <td>Yes</td>\n",
       "      <td>Maybe</td>\n",
       "      <td>Yes</td>\n",
       "    </tr>\n",
       "    <tr>\n",
       "      <th>3</th>\n",
       "      <td>15/10/2021 19:59:37</td>\n",
       "      <td>Yes</td>\n",
       "      <td>Maybe</td>\n",
       "      <td>Maybe</td>\n",
       "      <td>Maybe</td>\n",
       "      <td>Maybe</td>\n",
       "      <td>Yes</td>\n",
       "      <td>No</td>\n",
       "      <td>Yes</td>\n",
       "      <td>Yes</td>\n",
       "      <td>Maybe</td>\n",
       "      <td>Yes</td>\n",
       "      <td>Maybe</td>\n",
       "      <td>Yes</td>\n",
       "      <td>Yes</td>\n",
       "      <td>No</td>\n",
       "      <td>Yes</td>\n",
       "      <td>Maybe</td>\n",
       "      <td>Yes</td>\n",
       "    </tr>\n",
       "  </tbody>\n",
       "</table>\n",
       "</div>"
      ],
      "text/plain": [
       "             Timestamp m5gru m1lstm m2lstm  m6gru m5lstm  m4gru  m1gru  \\\n",
       "0  15/10/2021 16:59:57   Yes     No    Yes    Yes  Maybe  Maybe     No   \n",
       "1  15/10/2021 17:01:34   Yes     No     No  Maybe  Maybe    Yes     No   \n",
       "2  15/10/2021 17:48:07   Yes  Maybe     No  Maybe  Maybe  Maybe  Maybe   \n",
       "3  15/10/2021 19:59:37   Yes  Maybe  Maybe  Maybe  Maybe    Yes     No   \n",
       "\n",
       "  bukowski m4lstm m3lstm piercy  m8gru m8lstm mcmorris  m3gru m6lstm  m2gru  \\\n",
       "0       No  Maybe    Yes  Maybe    Yes  Maybe       No    Yes  Maybe  Maybe   \n",
       "1      Yes  Maybe  Maybe    Yes     No  Maybe      Yes  Maybe  Maybe  Maybe   \n",
       "2      Yes    Yes    Yes    Yes    Yes  Maybe      Yes    Yes    Yes  Maybe   \n",
       "3      Yes    Yes  Maybe    Yes  Maybe    Yes      Yes     No    Yes  Maybe   \n",
       "\n",
       "  myles  \n",
       "0    No  \n",
       "1   Yes  \n",
       "2   Yes  \n",
       "3   Yes  "
      ]
     },
     "execution_count": 4,
     "metadata": {},
     "output_type": "execute_result"
    }
   ],
   "source": [
    "df"
   ]
  },
  {
   "cell_type": "code",
   "execution_count": 5,
   "id": "38cfe998",
   "metadata": {},
   "outputs": [],
   "source": [
    "no_time = df.drop(labels='Timestamp', axis=1)"
   ]
  },
  {
   "cell_type": "code",
   "execution_count": 6,
   "id": "718252fb",
   "metadata": {},
   "outputs": [
    {
     "data": {
      "text/html": [
       "<div>\n",
       "<style scoped>\n",
       "    .dataframe tbody tr th:only-of-type {\n",
       "        vertical-align: middle;\n",
       "    }\n",
       "\n",
       "    .dataframe tbody tr th {\n",
       "        vertical-align: top;\n",
       "    }\n",
       "\n",
       "    .dataframe thead th {\n",
       "        text-align: right;\n",
       "    }\n",
       "</style>\n",
       "<table border=\"1\" class=\"dataframe\">\n",
       "  <thead>\n",
       "    <tr style=\"text-align: right;\">\n",
       "      <th></th>\n",
       "      <th>m5gru</th>\n",
       "      <th>m1lstm</th>\n",
       "      <th>m2lstm</th>\n",
       "      <th>m6gru</th>\n",
       "      <th>m5lstm</th>\n",
       "      <th>m4gru</th>\n",
       "      <th>m1gru</th>\n",
       "      <th>bukowski</th>\n",
       "      <th>m4lstm</th>\n",
       "      <th>m3lstm</th>\n",
       "      <th>piercy</th>\n",
       "      <th>m8gru</th>\n",
       "      <th>m8lstm</th>\n",
       "      <th>mcmorris</th>\n",
       "      <th>m3gru</th>\n",
       "      <th>m6lstm</th>\n",
       "      <th>m2gru</th>\n",
       "      <th>myles</th>\n",
       "    </tr>\n",
       "  </thead>\n",
       "  <tbody>\n",
       "    <tr>\n",
       "      <th>0</th>\n",
       "      <td>Yes</td>\n",
       "      <td>No</td>\n",
       "      <td>Yes</td>\n",
       "      <td>Yes</td>\n",
       "      <td>Maybe</td>\n",
       "      <td>Maybe</td>\n",
       "      <td>No</td>\n",
       "      <td>No</td>\n",
       "      <td>Maybe</td>\n",
       "      <td>Yes</td>\n",
       "      <td>Maybe</td>\n",
       "      <td>Yes</td>\n",
       "      <td>Maybe</td>\n",
       "      <td>No</td>\n",
       "      <td>Yes</td>\n",
       "      <td>Maybe</td>\n",
       "      <td>Maybe</td>\n",
       "      <td>No</td>\n",
       "    </tr>\n",
       "    <tr>\n",
       "      <th>1</th>\n",
       "      <td>Yes</td>\n",
       "      <td>No</td>\n",
       "      <td>No</td>\n",
       "      <td>Maybe</td>\n",
       "      <td>Maybe</td>\n",
       "      <td>Yes</td>\n",
       "      <td>No</td>\n",
       "      <td>Yes</td>\n",
       "      <td>Maybe</td>\n",
       "      <td>Maybe</td>\n",
       "      <td>Yes</td>\n",
       "      <td>No</td>\n",
       "      <td>Maybe</td>\n",
       "      <td>Yes</td>\n",
       "      <td>Maybe</td>\n",
       "      <td>Maybe</td>\n",
       "      <td>Maybe</td>\n",
       "      <td>Yes</td>\n",
       "    </tr>\n",
       "    <tr>\n",
       "      <th>2</th>\n",
       "      <td>Yes</td>\n",
       "      <td>Maybe</td>\n",
       "      <td>No</td>\n",
       "      <td>Maybe</td>\n",
       "      <td>Maybe</td>\n",
       "      <td>Maybe</td>\n",
       "      <td>Maybe</td>\n",
       "      <td>Yes</td>\n",
       "      <td>Yes</td>\n",
       "      <td>Yes</td>\n",
       "      <td>Yes</td>\n",
       "      <td>Yes</td>\n",
       "      <td>Maybe</td>\n",
       "      <td>Yes</td>\n",
       "      <td>Yes</td>\n",
       "      <td>Yes</td>\n",
       "      <td>Maybe</td>\n",
       "      <td>Yes</td>\n",
       "    </tr>\n",
       "    <tr>\n",
       "      <th>3</th>\n",
       "      <td>Yes</td>\n",
       "      <td>Maybe</td>\n",
       "      <td>Maybe</td>\n",
       "      <td>Maybe</td>\n",
       "      <td>Maybe</td>\n",
       "      <td>Yes</td>\n",
       "      <td>No</td>\n",
       "      <td>Yes</td>\n",
       "      <td>Yes</td>\n",
       "      <td>Maybe</td>\n",
       "      <td>Yes</td>\n",
       "      <td>Maybe</td>\n",
       "      <td>Yes</td>\n",
       "      <td>Yes</td>\n",
       "      <td>No</td>\n",
       "      <td>Yes</td>\n",
       "      <td>Maybe</td>\n",
       "      <td>Yes</td>\n",
       "    </tr>\n",
       "  </tbody>\n",
       "</table>\n",
       "</div>"
      ],
      "text/plain": [
       "  m5gru m1lstm m2lstm  m6gru m5lstm  m4gru  m1gru bukowski m4lstm m3lstm  \\\n",
       "0   Yes     No    Yes    Yes  Maybe  Maybe     No       No  Maybe    Yes   \n",
       "1   Yes     No     No  Maybe  Maybe    Yes     No      Yes  Maybe  Maybe   \n",
       "2   Yes  Maybe     No  Maybe  Maybe  Maybe  Maybe      Yes    Yes    Yes   \n",
       "3   Yes  Maybe  Maybe  Maybe  Maybe    Yes     No      Yes    Yes  Maybe   \n",
       "\n",
       "  piercy  m8gru m8lstm mcmorris  m3gru m6lstm  m2gru myles  \n",
       "0  Maybe    Yes  Maybe       No    Yes  Maybe  Maybe    No  \n",
       "1    Yes     No  Maybe      Yes  Maybe  Maybe  Maybe   Yes  \n",
       "2    Yes    Yes  Maybe      Yes    Yes    Yes  Maybe   Yes  \n",
       "3    Yes  Maybe    Yes      Yes     No    Yes  Maybe   Yes  "
      ]
     },
     "execution_count": 6,
     "metadata": {},
     "output_type": "execute_result"
    }
   ],
   "source": [
    "no_time"
   ]
  },
  {
   "cell_type": "code",
   "execution_count": 7,
   "id": "dfa50069",
   "metadata": {},
   "outputs": [],
   "source": [
    "trydf = pd.DataFrame((no_time['m5gru'].value_counts(), no_time['m1lstm'].value_counts(), no_time['m2lstm'].value_counts(), no_time['m6gru'].value_counts(), \n",
    "                     no_time['m5lstm'].value_counts(), no_time['m4gru'].value_counts(), no_time['m1gru'].value_counts(), no_time['bukowski'].value_counts(), \n",
    "                      no_time['m4lstm'].value_counts(), no_time['m3lstm'].value_counts(), no_time['piercy'].value_counts(), no_time['m8gru'].value_counts(),\n",
    "                    no_time['m8lstm'].value_counts(), no_time['mcmorris'].value_counts(), no_time['m3gru'].value_counts(), no_time['m6lstm'].value_counts(),\n",
    "                     no_time['m2gru'].value_counts(), no_time['myles'].value_counts()))"
   ]
  },
  {
   "cell_type": "code",
   "execution_count": 8,
   "id": "8592f638",
   "metadata": {},
   "outputs": [
    {
     "data": {
      "text/plain": [
       "<matplotlib.axes._subplots.AxesSubplot at 0x7fec144379a0>"
      ]
     },
     "execution_count": 8,
     "metadata": {},
     "output_type": "execute_result"
    }
   ],
   "source": [
    "trydf.fillna(0).plot.bar(stacked=True)"
   ]
  },
  {
   "cell_type": "code",
   "execution_count": 9,
   "id": "fb8ff7bd",
   "metadata": {},
   "outputs": [
    {
     "data": {
      "text/html": [
       "<div>\n",
       "<style scoped>\n",
       "    .dataframe tbody tr th:only-of-type {\n",
       "        vertical-align: middle;\n",
       "    }\n",
       "\n",
       "    .dataframe tbody tr th {\n",
       "        vertical-align: top;\n",
       "    }\n",
       "\n",
       "    .dataframe thead th {\n",
       "        text-align: right;\n",
       "    }\n",
       "</style>\n",
       "<table border=\"1\" class=\"dataframe\">\n",
       "  <thead>\n",
       "    <tr style=\"text-align: right;\">\n",
       "      <th></th>\n",
       "      <th>m5gru</th>\n",
       "      <th>m1lstm</th>\n",
       "      <th>m2lstm</th>\n",
       "      <th>m6gru</th>\n",
       "      <th>m5lstm</th>\n",
       "      <th>m4gru</th>\n",
       "      <th>m1gru</th>\n",
       "      <th>bukowski</th>\n",
       "      <th>m4lstm</th>\n",
       "      <th>m3lstm</th>\n",
       "      <th>piercy</th>\n",
       "      <th>m8gru</th>\n",
       "      <th>m8lstm</th>\n",
       "      <th>mcmorris</th>\n",
       "      <th>m3gru</th>\n",
       "      <th>m6lstm</th>\n",
       "      <th>m2gru</th>\n",
       "      <th>myles</th>\n",
       "    </tr>\n",
       "  </thead>\n",
       "  <tbody>\n",
       "    <tr>\n",
       "      <th>0</th>\n",
       "      <td>Yes</td>\n",
       "      <td>No</td>\n",
       "      <td>Yes</td>\n",
       "      <td>Yes</td>\n",
       "      <td>Maybe</td>\n",
       "      <td>Maybe</td>\n",
       "      <td>No</td>\n",
       "      <td>No</td>\n",
       "      <td>Maybe</td>\n",
       "      <td>Yes</td>\n",
       "      <td>Maybe</td>\n",
       "      <td>Yes</td>\n",
       "      <td>Maybe</td>\n",
       "      <td>No</td>\n",
       "      <td>Yes</td>\n",
       "      <td>Maybe</td>\n",
       "      <td>Maybe</td>\n",
       "      <td>No</td>\n",
       "    </tr>\n",
       "    <tr>\n",
       "      <th>1</th>\n",
       "      <td>Yes</td>\n",
       "      <td>No</td>\n",
       "      <td>No</td>\n",
       "      <td>Maybe</td>\n",
       "      <td>Maybe</td>\n",
       "      <td>Yes</td>\n",
       "      <td>No</td>\n",
       "      <td>Yes</td>\n",
       "      <td>Maybe</td>\n",
       "      <td>Maybe</td>\n",
       "      <td>Yes</td>\n",
       "      <td>No</td>\n",
       "      <td>Maybe</td>\n",
       "      <td>Yes</td>\n",
       "      <td>Maybe</td>\n",
       "      <td>Maybe</td>\n",
       "      <td>Maybe</td>\n",
       "      <td>Yes</td>\n",
       "    </tr>\n",
       "    <tr>\n",
       "      <th>2</th>\n",
       "      <td>Yes</td>\n",
       "      <td>Maybe</td>\n",
       "      <td>No</td>\n",
       "      <td>Maybe</td>\n",
       "      <td>Maybe</td>\n",
       "      <td>Maybe</td>\n",
       "      <td>Maybe</td>\n",
       "      <td>Yes</td>\n",
       "      <td>Yes</td>\n",
       "      <td>Yes</td>\n",
       "      <td>Yes</td>\n",
       "      <td>Yes</td>\n",
       "      <td>Maybe</td>\n",
       "      <td>Yes</td>\n",
       "      <td>Yes</td>\n",
       "      <td>Yes</td>\n",
       "      <td>Maybe</td>\n",
       "      <td>Yes</td>\n",
       "    </tr>\n",
       "    <tr>\n",
       "      <th>3</th>\n",
       "      <td>Yes</td>\n",
       "      <td>Maybe</td>\n",
       "      <td>Maybe</td>\n",
       "      <td>Maybe</td>\n",
       "      <td>Maybe</td>\n",
       "      <td>Yes</td>\n",
       "      <td>No</td>\n",
       "      <td>Yes</td>\n",
       "      <td>Yes</td>\n",
       "      <td>Maybe</td>\n",
       "      <td>Yes</td>\n",
       "      <td>Maybe</td>\n",
       "      <td>Yes</td>\n",
       "      <td>Yes</td>\n",
       "      <td>No</td>\n",
       "      <td>Yes</td>\n",
       "      <td>Maybe</td>\n",
       "      <td>Yes</td>\n",
       "    </tr>\n",
       "  </tbody>\n",
       "</table>\n",
       "</div>"
      ],
      "text/plain": [
       "  m5gru m1lstm m2lstm  m6gru m5lstm  m4gru  m1gru bukowski m4lstm m3lstm  \\\n",
       "0   Yes     No    Yes    Yes  Maybe  Maybe     No       No  Maybe    Yes   \n",
       "1   Yes     No     No  Maybe  Maybe    Yes     No      Yes  Maybe  Maybe   \n",
       "2   Yes  Maybe     No  Maybe  Maybe  Maybe  Maybe      Yes    Yes    Yes   \n",
       "3   Yes  Maybe  Maybe  Maybe  Maybe    Yes     No      Yes    Yes  Maybe   \n",
       "\n",
       "  piercy  m8gru m8lstm mcmorris  m3gru m6lstm  m2gru myles  \n",
       "0  Maybe    Yes  Maybe       No    Yes  Maybe  Maybe    No  \n",
       "1    Yes     No  Maybe      Yes  Maybe  Maybe  Maybe   Yes  \n",
       "2    Yes    Yes  Maybe      Yes    Yes    Yes  Maybe   Yes  \n",
       "3    Yes  Maybe    Yes      Yes     No    Yes  Maybe   Yes  "
      ]
     },
     "execution_count": 9,
     "metadata": {},
     "output_type": "execute_result"
    }
   ],
   "source": [
    "no_time"
   ]
  },
  {
   "cell_type": "code",
   "execution_count": 10,
   "id": "23f8f174",
   "metadata": {},
   "outputs": [
    {
     "data": {
      "text/html": [
       "<div>\n",
       "<style scoped>\n",
       "    .dataframe tbody tr th:only-of-type {\n",
       "        vertical-align: middle;\n",
       "    }\n",
       "\n",
       "    .dataframe tbody tr th {\n",
       "        vertical-align: top;\n",
       "    }\n",
       "\n",
       "    .dataframe thead th {\n",
       "        text-align: right;\n",
       "    }\n",
       "</style>\n",
       "<table border=\"1\" class=\"dataframe\">\n",
       "  <thead>\n",
       "    <tr style=\"text-align: right;\">\n",
       "      <th></th>\n",
       "      <th>Yes</th>\n",
       "      <th>No</th>\n",
       "      <th>Maybe</th>\n",
       "    </tr>\n",
       "  </thead>\n",
       "  <tbody>\n",
       "    <tr>\n",
       "      <th>bukowski</th>\n",
       "      <td>3.0</td>\n",
       "      <td>1.0</td>\n",
       "      <td>0.0</td>\n",
       "    </tr>\n",
       "    <tr>\n",
       "      <th>m1gru</th>\n",
       "      <td>0.0</td>\n",
       "      <td>3.0</td>\n",
       "      <td>1.0</td>\n",
       "    </tr>\n",
       "    <tr>\n",
       "      <th>m1lstm</th>\n",
       "      <td>0.0</td>\n",
       "      <td>2.0</td>\n",
       "      <td>2.0</td>\n",
       "    </tr>\n",
       "    <tr>\n",
       "      <th>m2gru</th>\n",
       "      <td>0.0</td>\n",
       "      <td>0.0</td>\n",
       "      <td>4.0</td>\n",
       "    </tr>\n",
       "    <tr>\n",
       "      <th>m2lstm</th>\n",
       "      <td>1.0</td>\n",
       "      <td>2.0</td>\n",
       "      <td>1.0</td>\n",
       "    </tr>\n",
       "    <tr>\n",
       "      <th>m3gru</th>\n",
       "      <td>2.0</td>\n",
       "      <td>1.0</td>\n",
       "      <td>1.0</td>\n",
       "    </tr>\n",
       "    <tr>\n",
       "      <th>m3lstm</th>\n",
       "      <td>2.0</td>\n",
       "      <td>0.0</td>\n",
       "      <td>2.0</td>\n",
       "    </tr>\n",
       "    <tr>\n",
       "      <th>m4gru</th>\n",
       "      <td>2.0</td>\n",
       "      <td>0.0</td>\n",
       "      <td>2.0</td>\n",
       "    </tr>\n",
       "    <tr>\n",
       "      <th>m4lstm</th>\n",
       "      <td>2.0</td>\n",
       "      <td>0.0</td>\n",
       "      <td>2.0</td>\n",
       "    </tr>\n",
       "    <tr>\n",
       "      <th>m5gru</th>\n",
       "      <td>4.0</td>\n",
       "      <td>0.0</td>\n",
       "      <td>0.0</td>\n",
       "    </tr>\n",
       "    <tr>\n",
       "      <th>m5lstm</th>\n",
       "      <td>0.0</td>\n",
       "      <td>0.0</td>\n",
       "      <td>4.0</td>\n",
       "    </tr>\n",
       "    <tr>\n",
       "      <th>m6gru</th>\n",
       "      <td>1.0</td>\n",
       "      <td>0.0</td>\n",
       "      <td>3.0</td>\n",
       "    </tr>\n",
       "    <tr>\n",
       "      <th>m6lstm</th>\n",
       "      <td>2.0</td>\n",
       "      <td>0.0</td>\n",
       "      <td>2.0</td>\n",
       "    </tr>\n",
       "    <tr>\n",
       "      <th>m8gru</th>\n",
       "      <td>2.0</td>\n",
       "      <td>1.0</td>\n",
       "      <td>1.0</td>\n",
       "    </tr>\n",
       "    <tr>\n",
       "      <th>m8lstm</th>\n",
       "      <td>1.0</td>\n",
       "      <td>0.0</td>\n",
       "      <td>3.0</td>\n",
       "    </tr>\n",
       "    <tr>\n",
       "      <th>mcmorris</th>\n",
       "      <td>3.0</td>\n",
       "      <td>1.0</td>\n",
       "      <td>0.0</td>\n",
       "    </tr>\n",
       "    <tr>\n",
       "      <th>myles</th>\n",
       "      <td>3.0</td>\n",
       "      <td>1.0</td>\n",
       "      <td>0.0</td>\n",
       "    </tr>\n",
       "    <tr>\n",
       "      <th>piercy</th>\n",
       "      <td>3.0</td>\n",
       "      <td>0.0</td>\n",
       "      <td>1.0</td>\n",
       "    </tr>\n",
       "  </tbody>\n",
       "</table>\n",
       "</div>"
      ],
      "text/plain": [
       "          Yes   No  Maybe\n",
       "bukowski  3.0  1.0    0.0\n",
       "m1gru     0.0  3.0    1.0\n",
       "m1lstm    0.0  2.0    2.0\n",
       "m2gru     0.0  0.0    4.0\n",
       "m2lstm    1.0  2.0    1.0\n",
       "m3gru     2.0  1.0    1.0\n",
       "m3lstm    2.0  0.0    2.0\n",
       "m4gru     2.0  0.0    2.0\n",
       "m4lstm    2.0  0.0    2.0\n",
       "m5gru     4.0  0.0    0.0\n",
       "m5lstm    0.0  0.0    4.0\n",
       "m6gru     1.0  0.0    3.0\n",
       "m6lstm    2.0  0.0    2.0\n",
       "m8gru     2.0  1.0    1.0\n",
       "m8lstm    1.0  0.0    3.0\n",
       "mcmorris  3.0  1.0    0.0\n",
       "myles     3.0  1.0    0.0\n",
       "piercy    3.0  0.0    1.0"
      ]
     },
     "execution_count": 10,
     "metadata": {},
     "output_type": "execute_result"
    }
   ],
   "source": [
    "trydf.sort_index().fillna(0)"
   ]
  },
  {
   "cell_type": "code",
   "execution_count": 11,
   "id": "f5879d98",
   "metadata": {},
   "outputs": [],
   "source": [
    "crosstab = pd.crosstab(no_time.columns, no_time.values[0]) + pd.crosstab(no_time.columns, no_time.values[1]) + pd.crosstab(no_time.columns, no_time.values[2]) + pd.crosstab(no_time.columns, no_time.values[3])"
   ]
  },
  {
   "cell_type": "code",
   "execution_count": 12,
   "id": "fff7bf04",
   "metadata": {},
   "outputs": [],
   "source": [
    "crosstab.columns.name = ''\n",
    "crosstab.index.name = ''"
   ]
  },
  {
   "cell_type": "code",
   "execution_count": 14,
   "id": "d9450bba",
   "metadata": {},
   "outputs": [],
   "source": [
    "crosstab = crosstab.reindex([\n",
    "    'bukowski',\n",
    "    'mcmorris',\n",
    "    'myles',\n",
    "    'piercy',\n",
    "    'm1gru',\n",
    "    'm1lstm',\n",
    "    'm2gru',\n",
    "    'm2lstm',\n",
    "    'm3gru',\n",
    "    'm3lstm',\n",
    "    'm4gru',\n",
    "    'm4lstm',\n",
    "    'm5gru',\n",
    "    'm5lstm',\n",
    "    'm6gru',\n",
    "    'm6lstm',\n",
    "    'm8gru',\n",
    "    'm8lstm']) "
   ]
  },
  {
   "cell_type": "code",
   "execution_count": 17,
   "id": "baabfee1",
   "metadata": {},
   "outputs": [],
   "source": [
    "crosstab.index = ['Bukowski',\n",
    " 'McMorris',\n",
    " 'Myles',\n",
    " 'Piercy',\n",
    " 'm1gru',\n",
    " 'm1lstm',\n",
    " 'm2gru',\n",
    " 'm2lstm',\n",
    " 'm3gru',\n",
    " 'm3lstm',\n",
    " 'm4gru',\n",
    " 'm4lstm',\n",
    " 'm5gru',\n",
    " 'm5lstm',\n",
    " 'm6gru',\n",
    " 'm6lstm',\n",
    " 'm8gru',\n",
    " 'm8lstm']"
   ]
  },
  {
   "cell_type": "code",
   "execution_count": 19,
   "id": "90efcd50",
   "metadata": {},
   "outputs": [],
   "source": [
    "labels = crosstab.index.to_list()\n",
    "\n",
    "maybe = crosstab['Maybe'].to_list()\n",
    "no = crosstab['No'].to_list()\n",
    "yes = crosstab['Yes'].to_list()\n",
    "\n",
    "\n",
    "width = 0.5"
   ]
  },
  {
   "cell_type": "code",
   "execution_count": 20,
   "id": "aeb9af0d",
   "metadata": {},
   "outputs": [],
   "source": [
    "plt.style.use('ggplot')\n",
    "plt.rcParams[\"figure.figsize\"]=10, 5"
   ]
  },
  {
   "cell_type": "code",
   "execution_count": 21,
   "id": "a2877666",
   "metadata": {},
   "outputs": [],
   "source": [
    "maybeno = np.array([maybe, no]).sum(0).tolist()"
   ]
  },
  {
   "cell_type": "code",
   "execution_count": 22,
   "id": "96e0beff",
   "metadata": {},
   "outputs": [],
   "source": [
    "colours = ['#f7b64d',\"#a17412\",\"#4F5D18\",\n",
    "           \"#a4af69\",\"#70a0af\",\"#28536b\",\"#684756\",\"#cd5d67\"]"
   ]
  },
  {
   "cell_type": "code",
   "execution_count": 23,
   "id": "e2d2e5ed",
   "metadata": {},
   "outputs": [],
   "source": [
    "colours = [\"#70a0af\",\"#67723b\",\"#f7b64d\",\"#F1874E\",\"#cd5d67\",\"#765061\"]"
   ]
  },
  {
   "cell_type": "code",
   "execution_count": 105,
   "id": "1f9a2269",
   "metadata": {},
   "outputs": [
    {
     "data": {
      "image/png": "[encoded data removed]",
      "text/plain": [
       "<Figure size 720x360 with 1 Axes>"
      ]
     },
     "metadata": {},
     "output_type": "display_data"
    }
   ],
   "source": [
    "fig, ax = plt.subplots()\n",
    "\n",
    "ax.bar(labels, yes, width, bottom=maybeno,\n",
    "       label='Yes', color='#24534e')\n",
    "ax.bar(labels, maybe, width, bottom=no,\n",
    "       label='Maybe', color='#367d75'\n",
    "      )\n",
    "ax.bar(labels, no, width, \n",
    "       label='No', color='#48a69c')\n",
    "\n",
    "\n",
    "\n",
    "ax.legend(loc=1, fontsize=12, frameon=True, facecolor=\"white\", framealpha=10)\n",
    "ylabels = [item.get_text() for item in ax.get_yticklabels()]\n",
    "ylabels[0] = int(0)\n",
    "ylabels[2] = int(1)\n",
    "ylabels[4] = int(2)\n",
    "ylabels[6] = int(3)\n",
    "ylabels[8] = int(4)\n",
    "\n",
    "ax.set_yticklabels(ylabels)\n",
    "plt.xticks(rotation=40)\n",
    "plt.xlabel(\"Poet or model that wrote the poem in the survey\")\n",
    "plt.ylabel(\"Number of answers\")\n",
    "plt.grid(False)\n",
    "plt.savefig('./eval-plot.pdf', bbox_inches=\"tight\")\n",
    "#plt.show()"
   ]
  },
  {
   "cell_type": "code",
   "execution_count": 52,
   "id": "f9b95f5b",
   "metadata": {},
   "outputs": [],
   "source": [
    "matrix = crosstab.to_numpy()"
   ]
  },
  {
   "cell_type": "code",
   "execution_count": 55,
   "id": "4ddf3d40",
   "metadata": {},
   "outputs": [],
   "source": [
    "def fleiss_kappa(M):\n",
    "    \"\"\"Computes Fleiss' kappa for group of annotators.\n",
    "    :param M: a matrix of shape (:attr:'N', :attr:'k') with 'N' = number of subjects and 'k' = the number of categories.\n",
    "        'M[i, j]' represent the number of raters who assigned the 'i'th subject to the 'j'th category.\n",
    "    :type: numpy matrix\n",
    "    :rtype: float\n",
    "    :return: Fleiss' kappa score\n",
    "    \"\"\"\n",
    "    N, k = M.shape  # N is # of items, k is # of categories\n",
    "    n_annotators = float(np.sum(M[0, :]))  # # of annotators\n",
    "    tot_annotations = N * n_annotators  # the total # of annotations\n",
    "    category_sum = np.sum(M, axis=0)  # the sum of each category over all items\n",
    "\n",
    "    # chance agreement\n",
    "    p = category_sum / tot_annotations  # the distribution of each category over all annotations\n",
    "    PbarE = np.sum(p * p)  # average chance agreement over all categories\n",
    "\n",
    "    # observed agreement\n",
    "    P = (np.sum(M * M, axis=1) - n_annotators) / (n_annotators * (n_annotators - 1))\n",
    "    Pbar = np.sum(P) / N  # add all observed agreement chances per item and divide by amount of items\n",
    "\n",
    "    return round((Pbar - PbarE) / (1 - PbarE), 4)"
   ]
  },
  {
   "cell_type": "code",
   "execution_count": 56,
   "id": "d142d587",
   "metadata": {},
   "outputs": [
    {
     "data": {
      "text/plain": [
       "0.1699"
      ]
     },
     "execution_count": 56,
     "metadata": {},
     "output_type": "execute_result"
    }
   ],
   "source": [
    "fleiss_kappa(matrix)"
   ]
  },
  {
   "cell_type": "code",
   "execution_count": 61,
   "id": "815efb11",
   "metadata": {},
   "outputs": [
    {
     "data": {
      "text/plain": [
       "0.16985793699814694"
      ]
     },
     "execution_count": 61,
     "metadata": {},
     "output_type": "execute_result"
    }
   ],
   "source": [
    "fleiss_kappa(matrix)"
   ]
  },
  {
   "cell_type": "code",
   "execution_count": 65,
   "id": "57e724e9",
   "metadata": {},
   "outputs": [
    {
     "data": {
      "text/html": [
       "<div>\n",
       "<style scoped>\n",
       "    .dataframe tbody tr th:only-of-type {\n",
       "        vertical-align: middle;\n",
       "    }\n",
       "\n",
       "    .dataframe tbody tr th {\n",
       "        vertical-align: top;\n",
       "    }\n",
       "\n",
       "    .dataframe thead th {\n",
       "        text-align: right;\n",
       "    }\n",
       "</style>\n",
       "<table border=\"1\" class=\"dataframe\">\n",
       "  <thead>\n",
       "    <tr style=\"text-align: right;\">\n",
       "      <th></th>\n",
       "      <th>m5gru</th>\n",
       "      <th>m1lstm</th>\n",
       "      <th>m2lstm</th>\n",
       "      <th>m6gru</th>\n",
       "      <th>m5lstm</th>\n",
       "      <th>m4gru</th>\n",
       "      <th>m1gru</th>\n",
       "      <th>bukowski</th>\n",
       "      <th>m4lstm</th>\n",
       "      <th>m3lstm</th>\n",
       "      <th>piercy</th>\n",
       "      <th>m8gru</th>\n",
       "      <th>m8lstm</th>\n",
       "      <th>mcmorris</th>\n",
       "      <th>m3gru</th>\n",
       "      <th>m6lstm</th>\n",
       "      <th>m2gru</th>\n",
       "      <th>myles</th>\n",
       "    </tr>\n",
       "  </thead>\n",
       "  <tbody>\n",
       "    <tr>\n",
       "      <th>0</th>\n",
       "      <td>Yes</td>\n",
       "      <td>No</td>\n",
       "      <td>Yes</td>\n",
       "      <td>Yes</td>\n",
       "      <td>Maybe</td>\n",
       "      <td>Maybe</td>\n",
       "      <td>No</td>\n",
       "      <td>No</td>\n",
       "      <td>Maybe</td>\n",
       "      <td>Yes</td>\n",
       "      <td>Maybe</td>\n",
       "      <td>Yes</td>\n",
       "      <td>Maybe</td>\n",
       "      <td>No</td>\n",
       "      <td>Yes</td>\n",
       "      <td>Maybe</td>\n",
       "      <td>Maybe</td>\n",
       "      <td>No</td>\n",
       "    </tr>\n",
       "    <tr>\n",
       "      <th>1</th>\n",
       "      <td>Yes</td>\n",
       "      <td>No</td>\n",
       "      <td>No</td>\n",
       "      <td>Maybe</td>\n",
       "      <td>Maybe</td>\n",
       "      <td>Yes</td>\n",
       "      <td>No</td>\n",
       "      <td>Yes</td>\n",
       "      <td>Maybe</td>\n",
       "      <td>Maybe</td>\n",
       "      <td>Yes</td>\n",
       "      <td>No</td>\n",
       "      <td>Maybe</td>\n",
       "      <td>Yes</td>\n",
       "      <td>Maybe</td>\n",
       "      <td>Maybe</td>\n",
       "      <td>Maybe</td>\n",
       "      <td>Yes</td>\n",
       "    </tr>\n",
       "    <tr>\n",
       "      <th>2</th>\n",
       "      <td>Yes</td>\n",
       "      <td>Maybe</td>\n",
       "      <td>No</td>\n",
       "      <td>Maybe</td>\n",
       "      <td>Maybe</td>\n",
       "      <td>Maybe</td>\n",
       "      <td>Maybe</td>\n",
       "      <td>Yes</td>\n",
       "      <td>Yes</td>\n",
       "      <td>Yes</td>\n",
       "      <td>Yes</td>\n",
       "      <td>Yes</td>\n",
       "      <td>Maybe</td>\n",
       "      <td>Yes</td>\n",
       "      <td>Yes</td>\n",
       "      <td>Yes</td>\n",
       "      <td>Maybe</td>\n",
       "      <td>Yes</td>\n",
       "    </tr>\n",
       "    <tr>\n",
       "      <th>3</th>\n",
       "      <td>Yes</td>\n",
       "      <td>Maybe</td>\n",
       "      <td>Maybe</td>\n",
       "      <td>Maybe</td>\n",
       "      <td>Maybe</td>\n",
       "      <td>Yes</td>\n",
       "      <td>No</td>\n",
       "      <td>Yes</td>\n",
       "      <td>Yes</td>\n",
       "      <td>Maybe</td>\n",
       "      <td>Yes</td>\n",
       "      <td>Maybe</td>\n",
       "      <td>Yes</td>\n",
       "      <td>Yes</td>\n",
       "      <td>No</td>\n",
       "      <td>Yes</td>\n",
       "      <td>Maybe</td>\n",
       "      <td>Yes</td>\n",
       "    </tr>\n",
       "  </tbody>\n",
       "</table>\n",
       "</div>"
      ],
      "text/plain": [
       "  m5gru m1lstm m2lstm  m6gru m5lstm  m4gru  m1gru bukowski m4lstm m3lstm  \\\n",
       "0   Yes     No    Yes    Yes  Maybe  Maybe     No       No  Maybe    Yes   \n",
       "1   Yes     No     No  Maybe  Maybe    Yes     No      Yes  Maybe  Maybe   \n",
       "2   Yes  Maybe     No  Maybe  Maybe  Maybe  Maybe      Yes    Yes    Yes   \n",
       "3   Yes  Maybe  Maybe  Maybe  Maybe    Yes     No      Yes    Yes  Maybe   \n",
       "\n",
       "  piercy  m8gru m8lstm mcmorris  m3gru m6lstm  m2gru myles  \n",
       "0  Maybe    Yes  Maybe       No    Yes  Maybe  Maybe    No  \n",
       "1    Yes     No  Maybe      Yes  Maybe  Maybe  Maybe   Yes  \n",
       "2    Yes    Yes  Maybe      Yes    Yes    Yes  Maybe   Yes  \n",
       "3    Yes  Maybe    Yes      Yes     No    Yes  Maybe   Yes  "
      ]
     },
     "execution_count": 65,
     "metadata": {},
     "output_type": "execute_result"
    }
   ],
   "source": [
    "no_time"
   ]
  },
  {
   "cell_type": "code",
   "execution_count": 71,
   "id": "443ba0b4",
   "metadata": {},
   "outputs": [],
   "source": [
    "triples = []\n",
    "for row in no_time.iterrows():\n",
    "    coder = row[0]\n",
    "    for item, label in row[1].iteritems():\n",
    "        triple = (coder, item, label)\n",
    "        triples.append(triple)"
   ]
  },
  {
   "cell_type": "code",
   "execution_count": 109,
   "id": "db7ee2eb",
   "metadata": {},
   "outputs": [],
   "source": [
    "lstm_gru_triples = []\n",
    "poet_triples = []\n",
    "for t in triples:\n",
    "    if 'lstm' in t[1] or 'gru' in t[1]:\n",
    "        lstm_gru_triples.append(t)\n",
    "    else:\n",
    "        poet_triples.append(t)"
   ]
  },
  {
   "cell_type": "code",
   "execution_count": 114,
   "id": "54ab2816",
   "metadata": {},
   "outputs": [
    {
     "data": {
      "text/html": [
       "<div>\n",
       "<style scoped>\n",
       "    .dataframe tbody tr th:only-of-type {\n",
       "        vertical-align: middle;\n",
       "    }\n",
       "\n",
       "    .dataframe tbody tr th {\n",
       "        vertical-align: top;\n",
       "    }\n",
       "\n",
       "    .dataframe thead th {\n",
       "        text-align: right;\n",
       "    }\n",
       "</style>\n",
       "<table border=\"1\" class=\"dataframe\">\n",
       "  <thead>\n",
       "    <tr style=\"text-align: right;\">\n",
       "      <th></th>\n",
       "      <th>Maybe</th>\n",
       "      <th>No</th>\n",
       "      <th>Yes</th>\n",
       "    </tr>\n",
       "  </thead>\n",
       "  <tbody>\n",
       "    <tr>\n",
       "      <th>m2lstm</th>\n",
       "      <td>1</td>\n",
       "      <td>2</td>\n",
       "      <td>1</td>\n",
       "    </tr>\n",
       "    <tr>\n",
       "      <th>m6gru</th>\n",
       "      <td>3</td>\n",
       "      <td>0</td>\n",
       "      <td>1</td>\n",
       "    </tr>\n",
       "    <tr>\n",
       "      <th>m8lstm</th>\n",
       "      <td>3</td>\n",
       "      <td>0</td>\n",
       "      <td>1</td>\n",
       "    </tr>\n",
       "  </tbody>\n",
       "</table>\n",
       "</div>"
      ],
      "text/plain": [
       "        Maybe  No  Yes\n",
       "m2lstm      1   2    1\n",
       "m6gru       3   0    1\n",
       "m8lstm      3   0    1"
      ]
     },
     "execution_count": 114,
     "metadata": {},
     "output_type": "execute_result"
    }
   ],
   "source": [
    "crosstab[crosstab['Yes'] == 1]"
   ]
  },
  {
   "cell_type": "code",
   "execution_count": 128,
   "id": "2686942a",
   "metadata": {},
   "outputs": [],
   "source": [
    "lstm_df = crosstab[crosstab.index.str.contains('lstm')]\n",
    "gru_df = crosstab[crosstab.index.str.contains('gru')]\n"
   ]
  },
  {
   "cell_type": "code",
   "execution_count": 135,
   "id": "adffa9fc",
   "metadata": {},
   "outputs": [
    {
     "data": {
      "text/plain": [
       "1.5714285714285714"
      ]
     },
     "execution_count": 135,
     "metadata": {},
     "output_type": "execute_result"
    }
   ],
   "source": [
    "gru_yes = gru_df['Yes'].to_list()\n",
    "sum(gru_yes)/len(gru_yes)"
   ]
  },
  {
   "cell_type": "code",
   "execution_count": 136,
   "id": "29a5e5fa",
   "metadata": {},
   "outputs": [
    {
     "data": {
      "text/plain": [
       "1.7142857142857142"
      ]
     },
     "execution_count": 136,
     "metadata": {},
     "output_type": "execute_result"
    }
   ],
   "source": [
    "gru_maybe = gru_df['Maybe'].to_list()\n",
    "sum(gru_maybe)/len(gru_maybe)"
   ]
  },
  {
   "cell_type": "code",
   "execution_count": 137,
   "id": "b4bfde5b",
   "metadata": {},
   "outputs": [
    {
     "data": {
      "text/plain": [
       "0.7142857142857143"
      ]
     },
     "execution_count": 137,
     "metadata": {},
     "output_type": "execute_result"
    }
   ],
   "source": [
    "gru_no = gru_df['No'].to_list()\n",
    "sum(gru_no)/len(gru_no)"
   ]
  },
  {
   "cell_type": "code",
   "execution_count": 138,
   "id": "db8c552e",
   "metadata": {},
   "outputs": [
    {
     "data": {
      "text/plain": [
       "1.1428571428571428"
      ]
     },
     "execution_count": 138,
     "metadata": {},
     "output_type": "execute_result"
    }
   ],
   "source": [
    "lstm_yes = lstm_df['Yes'].to_list()\n",
    "sum(lstm_yes)/len(lstm_yes)"
   ]
  },
  {
   "cell_type": "code",
   "execution_count": 139,
   "id": "86b7a70c",
   "metadata": {},
   "outputs": [
    {
     "data": {
      "text/plain": [
       "2.2857142857142856"
      ]
     },
     "execution_count": 139,
     "metadata": {},
     "output_type": "execute_result"
    }
   ],
   "source": [
    "lstm_maybe = lstm_df['Maybe'].to_list()\n",
    "sum(lstm_maybe)/len(lstm_maybe)"
   ]
  },
  {
   "cell_type": "code",
   "execution_count": 140,
   "id": "d34ec35b",
   "metadata": {},
   "outputs": [
    {
     "data": {
      "text/plain": [
       "0.5714285714285714"
      ]
     },
     "execution_count": 140,
     "metadata": {},
     "output_type": "execute_result"
    }
   ],
   "source": [
    "lstm_no = lstm_df['No'].to_list()\n",
    "sum(lstm_no)/len(lstm_no)"
   ]
  },
  {
   "cell_type": "code",
   "execution_count": 142,
   "id": "0568b7fc",
   "metadata": {},
   "outputs": [
    {
     "data": {
      "text/plain": [
       "1.3571428571428572"
      ]
     },
     "execution_count": 142,
     "metadata": {},
     "output_type": "execute_result"
    }
   ],
   "source": [
    "(sum(gru_yes) + sum(lstm_yes))/(len(gru_yes)+len(gru_no))"
   ]
  },
  {
   "cell_type": "code",
   "execution_count": 118,
   "id": "e3fb7b74",
   "metadata": {},
   "outputs": [
    {
     "name": "stdout",
     "output_type": "stream",
     "text": [
      "kappa 0.18223838572217055\n",
      "fleiss 0.1778140293637847\n",
      "alpha 0.1813876878731726\n",
      "scotts 0.169857936998147\n"
     ]
    }
   ],
   "source": [
    "ratingtask = agreement.AnnotationTask(data=triples)\n",
    "print(\"kappa \" +str(ratingtask.kappa()))\n",
    "print(\"fleiss \" + str(ratingtask.multi_kappa()))\n",
    "print(\"alpha \" +str(ratingtask.alpha()))\n",
    "print(\"scotts \" + str(ratingtask.pi()))"
   ]
  },
  {
   "cell_type": "code",
   "execution_count": 85,
   "id": "a76e6bd0",
   "metadata": {},
   "outputs": [
    {
     "data": {
      "text/plain": [
       "1.3571428571428572"
      ]
     },
     "execution_count": 85,
     "metadata": {},
     "output_type": "execute_result"
    }
   ],
   "source": [
    "model_yes = crosstab[4:]['Yes'].to_list()\n",
    "sum(model_yes)/len(model_yes)\n"
   ]
  },
  {
   "cell_type": "code",
   "execution_count": 88,
   "id": "0c02da26",
   "metadata": {},
   "outputs": [
    {
     "data": {
      "text/plain": [
       "0.6428571428571429"
      ]
     },
     "execution_count": 88,
     "metadata": {},
     "output_type": "execute_result"
    }
   ],
   "source": [
    "model_no = crosstab[4:]['No'].to_list()\n",
    "sum(model_no)/len(model_no)\n"
   ]
  },
  {
   "cell_type": "code",
   "execution_count": 143,
   "id": "fb69cde4",
   "metadata": {},
   "outputs": [
    {
     "data": {
      "text/plain": [
       "2.0"
      ]
     },
     "execution_count": 143,
     "metadata": {},
     "output_type": "execute_result"
    }
   ],
   "source": [
    "model_maybe= crosstab[4:]['Maybe'].to_list()\n",
    "sum(model_maybe)/len(model_maybe)\n"
   ]
  },
  {
   "cell_type": "code",
   "execution_count": 171,
   "id": "774d594c",
   "metadata": {},
   "outputs": [
    {
     "data": {
      "text/plain": [
       "0.16985793699814694"
      ]
     },
     "execution_count": 171,
     "metadata": {},
     "output_type": "execute_result"
    }
   ],
   "source": [
    "stats.inter_rater.fleiss_kappa(crosstab.to_numpy())"
   ]
  },
  {
   "cell_type": "code",
   "execution_count": 189,
   "id": "f391982e",
   "metadata": {},
   "outputs": [],
   "source": [
    "notime_answers = no_time.sum(axis=1).to_list()"
   ]
  },
  {
   "cell_type": "code",
   "execution_count": 190,
   "id": "721a0c86",
   "metadata": {},
   "outputs": [
    {
     "data": {
      "text/plain": [
       "6"
      ]
     },
     "execution_count": 190,
     "metadata": {},
     "output_type": "execute_result"
    }
   ],
   "source": []
  },
  {
   "cell_type": "code",
   "execution_count": 192,
   "id": "58c9cd5e",
   "metadata": {},
   "outputs": [
    {
     "data": {
      "text/plain": [
       "(6, 6, 10, 9)"
      ]
     },
     "execution_count": 192,
     "metadata": {},
     "output_type": "execute_result"
    }
   ],
   "source": [
    "notime_answers[0].count('Yes'), notime_answers[1].count('Yes'), notime_answers[2].count('Yes'), notime_answers[3].count('Yes')"
   ]
  },
  {
   "cell_type": "code",
   "execution_count": 193,
   "id": "ef7e28c2",
   "metadata": {},
   "outputs": [
    {
     "data": {
      "text/plain": [
       "(5, 4, 1, 2)"
      ]
     },
     "execution_count": 193,
     "metadata": {},
     "output_type": "execute_result"
    }
   ],
   "source": [
    "notime_answers[0].count('No'), notime_answers[1].count('No'), notime_answers[2].count('No'), notime_answers[3].count('No')"
   ]
  },
  {
   "cell_type": "code",
   "execution_count": 194,
   "id": "2c1ba5e2",
   "metadata": {},
   "outputs": [
    {
     "data": {
      "text/plain": [
       "(7, 8, 7, 7)"
      ]
     },
     "execution_count": 194,
     "metadata": {},
     "output_type": "execute_result"
    }
   ],
   "source": [
    "notime_answers[0].count('Maybe'), notime_answers[1].count('Maybe'), notime_answers[2].count('Maybe'), notime_answers[3].count('Maybe')"
   ]
  },
  {
   "cell_type": "code",
   "execution_count": null,
   "id": "8fbd37eb",
   "metadata": {},
   "outputs": [],
   "source": []
  }
 ],
 "metadata": {
  "kernelspec": {
   "display_name": "Python 3 (ipykernel)",
   "language": "python",
   "name": "python3"
  },
  "language_info": {
   "codemirror_mode": {
    "name": "ipython",
    "version": 3
   },
   "file_extension": ".py",
   "mimetype": "text/x-python",
   "name": "python",
   "nbconvert_exporter": "python",
   "pygments_lexer": "ipython3",
   "version": "3.9.6"
  }
 },
 "nbformat": 4,
 "nbformat_minor": 5
}
