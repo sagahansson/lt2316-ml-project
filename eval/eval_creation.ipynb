{
 "cells": [
  {
   "cell_type": "code",
   "execution_count": 1,
   "id": "78f2c2c1",
   "metadata": {},
   "outputs": [],
   "source": [
    "import os\n",
    "import pickle\n",
    "import random\n",
    "kaggle_poems = pickle.load(open(\"kaggle_poems.p\", \"rb\"))"
   ]
  },
  {
   "cell_type": "code",
   "execution_count": 2,
   "id": "fc26036c",
   "metadata": {},
   "outputs": [],
   "source": [
    "the_poems = []\n",
    "for p in kaggle_poems:\n",
    "    if p[0].lower() == 'the':\n",
    "        the_poems.append(p)"
   ]
  },
  {
   "cell_type": "code",
   "execution_count": 3,
   "id": "b619dcf2",
   "metadata": {},
   "outputs": [],
   "source": [
    "the_len = len(the_poems)\n",
    "rand = random.randrange(0, the_len)\n",
    "rand_poem = the_poems[rand][:100]"
   ]
  },
  {
   "cell_type": "code",
   "execution_count": 4,
   "id": "d88cd9c2",
   "metadata": {},
   "outputs": [
    {
     "data": {
      "text/plain": [
       "'the seats faced backwards although the train car was headed forward . the engineers designed it that way intentionally: the cushioned seats at the front facing in toward the rest of the car , —passengers’ faces , a japanese flower arrangement of faces . the platform began receding . whoosh . not in the sense of being unconscious or knocked out , but i was coming to see , that is , to understand an endurance test deep inside that things could have gone differently , the furniture . it could have turned out completely different . that’s within the'"
      ]
     },
     "execution_count": 4,
     "metadata": {},
     "output_type": "execute_result"
    }
   ],
   "source": [
    "(' '.join(rand_poem)).lower()"
   ]
  },
  {
   "cell_type": "code",
   "execution_count": 9,
   "id": "1d72119c",
   "metadata": {},
   "outputs": [],
   "source": [
    "# id of poems retrieved from choosing 4 random poems are: 312, 468, 771, 1268\n",
    "poem_312 = ' '.join(the_poems[312][:100]).lower()\n",
    "poem_468 = ' '.join(the_poems[468][:100]).lower()\n",
    "poem_771 = ' '.join(the_poems[771][:100]).lower()\n",
    "poem_1268 = ' '.join(the_poems[1268][:100]).lower()\n"
   ]
  },
  {
   "cell_type": "code",
   "execution_count": 11,
   "id": "dadcc513",
   "metadata": {},
   "outputs": [],
   "source": [
    "direc = \"./models-outputs/\"\n",
    "top5_poems = []\n",
    "top10_poems = []\n",
    "for file in os.listdir(direc):\n",
    "    if file.endswith(\"u.txt\") or file.endswith(\"m.txt\"):\n",
    "        with open(direc + file, \"r\") as f:\n",
    "            file = f.read()\n",
    "        poem_name = file.split(\"\\n\")\n",
    "        poem_name = [s for s in poem_name if s != \"\"]\n",
    "        \n",
    "        top5_poems.append(tuple(poem_name[2:4]))\n",
    "        top10_poems.append(tuple(poem_name[4:6]))\n",
    "        "
   ]
  },
  {
   "cell_type": "code",
   "execution_count": 12,
   "id": "4726edd5",
   "metadata": {},
   "outputs": [],
   "source": [
    "eval_poems = top5_poems + [poem_312] + [poem_468] + [poem_771] + [poem_1268]\n",
    "random.shuffle(eval_poems)"
   ]
  },
  {
   "cell_type": "code",
   "execution_count": 33,
   "id": "9780278f",
   "metadata": {},
   "outputs": [
    {
     "name": "stdout",
     "output_type": "stream",
     "text": [
      "(\"Model name: m7lstm.pt\\ttopk: 5\\twords: ['the']\", 'the and , and . and , , the , , . , the and . , the , the the . , . of the , and of , the of the and , the , , of the and of the the the the of and , the , the , and the , , the and of , . , of . , , the the . , , , the , . the . . the the the the the . the of . of of and . , the . , , of . and of ,')\n",
      "\n",
      "\n",
      "(\"Model name: m7gru.pt\\ttopk: 5\\twords: ['the']\", 'the and the of of , , . . the the of of the the . , , the the , and and . the and , . the of . and , , , , and , , , the , the and and , the and . , of the of the . . , and and , . and and , the of of , , , , the of . and , the . , the . . , . of . . the the , the . the and the . of . the and and .')\n",
      "\n",
      "\n"
     ]
    }
   ],
   "source": [
    "for t in eval_poems:\n",
    "    if type(t) == tuple:\n",
    "        if \"m7\" in t[0]:\n",
    "            print(t)\n",
    "            print(\"\\n\")"
   ]
  },
  {
   "cell_type": "code",
   "execution_count": 32,
   "id": "8ed86136",
   "metadata": {},
   "outputs": [],
   "source": [
    "eval_poems_d = {\n",
    "                0  : (\"Model name: m5gru.pt\\ttopk: 5\\twords: ['the']\", 'the world in the air . the wind is a thousand , in the air , and i see the way . i have been in the air to my own hands , and i know it . but i have been lost in my heart to be in your eyes and your heart and i will you know . the wind is in my hand , the wind , and it is the light , and the sky , i have been a little little woman , a woman , the old woman was a little girl , i am in'),\n",
    "                1  : (\"Model name: m1lstm.pt\\ttopk: 5\\twords: ['the']\", 'the world has no way of the time of the night of the night . the sun . the sky is not to be a little , and i was a child , and the man who is it , the last of you . you will not be . but you are it is the same . the day is a little thing , a man and the same , i know the way , but the last of the sun has been in a dream , the one of the sun , i have not to the same , a'),\n",
    "                2  : (\"Model name: m2lstm.pt\\ttopk: 5\\twords: ['the']\", 'the sun is , and the way the world is not , and i am no more in a long . the world is a man , and the sun of the world . i know it was in the world of the world , and i am not . i know you , the man , the way of my heart and you can see the world . i am not . i will not know the world , and the first , a moment , in the night of the world , and in the air , the sun ,'),\n",
    "                3  : (\"Model name: m6gru.pt\\ttopk: 5\\twords: ['the']\", 'the world is a man who was a little way . the first man is the same . but i have a man in the way . the wind , my mother said to the the the night , i was not afraid . i am no one , the same , i know the time . but i have been the way , and my heart was the same . i am a man , i am a man in my heart . my father said , i know . i will be . i was , but the old world'), \n",
    "                4  : (\"Model name: m5lstm.pt\\ttopk: 5\\twords: ['the']\", 'the end recited: the same to the same one . i will not see it , that i know , i have been in the world , but the same . i know that i had to say , and i have been the world to the other side to be , the way of the world , i know , i have been the time of the end of a dream , to the world of the sea , the way of the world of my heart . you were a thousand times i have a good , for a man'), \n",
    "                5  : (\"Model name: m4gru.pt\\ttopk: 5\\twords: ['the']\", 'the first of the world . the king of the world is the element , and the proudest insistence , the whirligig of the earth . the world was the first time . it was a way in the air . i saw my father . i was the old woman , the first day . it was a time . it seemed to be a little one . it is not . . . . . . . . . and the only time i am , the first , and the lord , the splendid , that , and the'), \n",
    "                6  : (\"Model name: m1gru.pt\\ttopk: 5\\twords: ['the']\", 'the first time we are not to know , i am a long , and i have been in the sun and i have a good . but i am the same . you were in the house . i am not the way to the world , a little thing , and the other in the sun . i have a little , i know . ) i was not the way to my own house , a little , in a field of the water , and the night , the wind , i am a long , i have'), \n",
    "                7  : \"the weather is hot on the back of my watch which is down at finkelstein’s who is gifted with 3 balls but no heart , but you’ve got to understand when the bull goes down on the whore , the heart is laid aside for something else , and let’s not over-rate the obvious decency for in a crap game you may be cutting down some wobbly king of 6 kids and a hemorrhoid butt on his last unemployment check , and who is to say the rose is greater than the thorn ? not i , henry , and\",\n",
    "                8  : (\"Model name: m4lstm.pt\\ttopk: 5\\twords: ['the']\", \"the room where it was a man who had been , and he had no one . i have not seen the world to the ground , in that old world . . . i am in a new york city dreamscape , i had a child of the dead , and i have seen my eyes . the last time to the hearer's of the day . and when you were born . i have been a woman in the air . i will have been the same . i am a woman . i was a little woman with her\"), \n",
    "                9  : (\"Model name: m3lstm.pt\\ttopk: 5\\twords: ['the']\", 'the air . the night . i am a man , i know , to say you have you to do you , and the time i have been in your pocket . you have to be the way . the sun is a little bit of the sky . a little bit of my heart . it was the world , and i will see my own . i have seen a woman with a little , i have to be the end of a man . a woman is the way to be , or a man . a man'), \n",
    "                10 : \"the hinge of the year the great gates opening and then slowly slowly closing on us . i always imagine those gates hanging over the ocean fiery over the stone grey waters of evening . we cast what we must change about ourselves onto the waters flowing to the sea . the sins , errors , bad habits , whatever you call them , dissolve . when i was little i cried out i ! i ! i ! i want , i want . older , i feel less important , a worker bee in the hive of history\",\n",
    "                11 : (\"Model name: m8gru.pt\\ttopk: 5\\twords: ['the']\", 'the way . we have been the problem , a time . the water is a small . a little child . i am not afraid . the world is a new century , a little girl and the little . and they have been a man . they are not a man , and he is the world of a man and who would have to be a woman , and the old men are not not not the way . a woman , who was not a boy and a man , he says . he is his wife ,'), \n",
    "                12 : (\"Model name: m8lstm.pt\\ttopk: 5\\twords: ['the']\", 'the world , and all the men of the world . the sky was not a man to do . the sun is my life , and the sun was the world of my heart , a woman , a woman . we have been a boy , the sky is the world to do with the world , the old ones are the dead ? i was born . i am not the first of my life , the sun and a white washstand . i know it , the world . i have no more , i have been a'), \n",
    "                13 : \"the evening empty as a convex coconut split down the seam: not that it can be filled . the evening empty as a gourd that twists on an iron thread: the rough skin of the sphere . . . . . . not that there was a spoken word to recall the moment of seeing the short span when the clocks ceased to revolve and hands met in jest or benediction time of the vortex into which hibiscus and almond trees strayed and windows made of aluminum . the stars are suddenly remote candescent petals night throws above the yard\",\n",
    "                14 : (\"Model name: m3gru.pt\\ttopk: 5\\twords: ['the']\", 'the sun was the first day , the sky , a man , the man and the sky , he is the world , the sun , the hand of a tree and the night , the sun , and a woman who is the only thing to be , but i have seen my own . the moon of your face and my heart , a woman in a room , the air is the night of the sea , i am a child , i know you were a woman . i know . the old woman , i am'), \n",
    "                15 : (\"Model name: m6lstm.pt\\ttopk: 5\\twords: ['the']\", 'the end of this poem of my own love , the world is a man , a few of the same , i have to be a little , that is the time i have been the same home . i am not the first , that you have to be a little thing to the way . the sun is the other . you are a way to the end of the world , and the first thing i have been the same , i have been . i am not , i have a little , but i could tell'),\n",
    "                16 : (\"Model name: m2gru.pt\\ttopk: 5\\twords: ['the']\", 'the same . i was the same of the time , the little girl was a man . i am not the same thing . i will be a little . you were the thing . i was not the thing . the sun is a man , the first , a woman who would be , the way , the world , a little and the man is to the world . and the sun , the dark of his own , a man , a little and a woman , and the way of a man and a woman is'),\n",
    "                17 : \"the car had a cover over it and it was over the wheels and it hurt my ass and i couldn’t sleep . it seems i should move , go forward now i was wandering through the jungle anywhere on earth but i was a woman in bed in new york and how many people have died in wild places dreaming you were still in bed would you know . travel well i said to my dog when she went on her journey thinking of a cheap movie i’ve thought this was an urn turning this was on water this\"\n",
    "               }"
   ]
  }
 ],
 "metadata": {
  "kernelspec": {
   "display_name": "Python 3 (ipykernel)",
   "language": "python",
   "name": "python3"
  },
  "language_info": {
   "codemirror_mode": {
    "name": "ipython",
    "version": 3
   },
   "file_extension": ".py",
   "mimetype": "text/x-python",
   "name": "python",
   "nbconvert_exporter": "python",
   "pygments_lexer": "ipython3",
   "version": "3.9.6"
  }
 },
 "nbformat": 4,
 "nbformat_minor": 5
}
