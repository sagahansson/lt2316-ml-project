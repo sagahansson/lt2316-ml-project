{
 "cells": [
  {
   "cell_type": "code",
   "execution_count": 1,
   "id": "0e66dc32",
   "metadata": {},
   "outputs": [],
   "source": [
    "import pandas as pd\n",
    "import torch\n",
    "import torch.nn as nn\n",
    "import re\n",
    "import string\n",
    "import random\n",
    "import os\n",
    "import pickle\n",
    "import numpy as np\n",
    "from poetrymodel import PoetryModel\n",
    "from res_utils import predict, write, save_poem, write_hp\n",
    "\n",
    "device = 'cuda:0'"
   ]
  },
  {
   "cell_type": "code",
   "execution_count": 2,
   "id": "7f2d9710",
   "metadata": {},
   "outputs": [],
   "source": [
    "model_name = 'm8lstm.pt'"
   ]
  },
  {
   "cell_type": "code",
   "execution_count": 3,
   "id": "d79f3e2c",
   "metadata": {},
   "outputs": [],
   "source": [
    "cp = torch.load('./models-outputs/' + model_name, map_location=device)\n",
    "hp = cp['hp']"
   ]
  },
  {
   "cell_type": "code",
   "execution_count": 4,
   "id": "24e0f05e",
   "metadata": {},
   "outputs": [],
   "source": [
    "hp['model_name'] = model_name"
   ]
  },
  {
   "cell_type": "code",
   "execution_count": 5,
   "id": "d8747033",
   "metadata": {},
   "outputs": [],
   "source": [
    "flat_poems = pickle.load(open(\"flat_poems.p\", \"rb\"))\n",
    "vocab_size = len(set(flat_poems))\n",
    "id2w = pickle.load(open(\"id2w.p\", \"rb\"))\n",
    "w2id = {v : k for k, v in id2w.items()}"
   ]
  },
  {
   "cell_type": "code",
   "execution_count": 6,
   "id": "dc3a4f52",
   "metadata": {},
   "outputs": [
    {
     "name": "stderr",
     "output_type": "stream",
     "text": [
      "/usr/local/lib64/python3.9/site-packages/torch/nn/modules/rnn.py:62: UserWarning: dropout option adds dropout after all but last recurrent layer, so non-zero dropout expects num_layers greater than 1, but got dropout=0.5 and num_layers=1\n",
      "  warnings.warn(\"dropout option adds dropout after all but last \"\n"
     ]
    }
   ],
   "source": [
    "net = PoetryModel(vocab_size, hp)"
   ]
  },
  {
   "cell_type": "code",
   "execution_count": 7,
   "id": "44339080",
   "metadata": {},
   "outputs": [
    {
     "data": {
      "text/plain": [
       "PoetryModel(\n",
       "  (embedding): Embedding(162970, 32)\n",
       "  (rnn): LSTM(32, 32, batch_first=True, dropout=0.5)\n",
       "  (fc): Linear(in_features=32, out_features=162970, bias=True)\n",
       ")"
      ]
     },
     "execution_count": 7,
     "metadata": {},
     "output_type": "execute_result"
    }
   ],
   "source": [
    "net.load_state_dict(cp['state_dict'])\n",
    "net.eval() "
   ]
  },
  {
   "cell_type": "code",
   "execution_count": 38,
   "id": "3abdef13",
   "metadata": {},
   "outputs": [
    {
     "name": "stdout",
     "output_type": "stream",
     "text": [
      "you are the world and you may never say , and the people have i can live . we were a child of the city the old men say to all . the night , a tree is a little and the long , she was my life in my desk and the sky is your mother to make it ? in the dark , where we may have been to the world . ” if i said , my life that is the sky i was not not so many times the one , as if the world would , the wind\n"
     ]
    }
   ],
   "source": [
    "topk = 20\n",
    "ws  = [\"you\", \"are\"]\n",
    "len_ws = len(ws)\n",
    "\n",
    "gen_poem = write(net, 100, w2id, id2w, top_k=topk, words=ws)\n",
    "gen_poem = \" \".join(gen_poem)\n",
    "print(gen_poem)"
   ]
  },
  {
   "cell_type": "code",
   "execution_count": 39,
   "id": "a8d05d57",
   "metadata": {},
   "outputs": [
    {
     "name": "stdout",
     "output_type": "stream",
     "text": [
      "Poem saved at m8lstm.txt.\n"
     ]
    }
   ],
   "source": [
    "save_poem(model_name, topk, ws, len_ws, gen_poem)"
   ]
  },
  {
   "cell_type": "code",
   "execution_count": 16,
   "id": "3c5f7521",
   "metadata": {},
   "outputs": [],
   "source": [
    "write_hp(hp, model_name)"
   ]
  },
  {
   "cell_type": "code",
   "execution_count": 17,
   "id": "73a514d2",
   "metadata": {},
   "outputs": [
    {
     "data": {
      "text/html": [
       "<div>\n",
       "<style scoped>\n",
       "    .dataframe tbody tr th:only-of-type {\n",
       "        vertical-align: middle;\n",
       "    }\n",
       "\n",
       "    .dataframe tbody tr th {\n",
       "        vertical-align: top;\n",
       "    }\n",
       "\n",
       "    .dataframe thead th {\n",
       "        text-align: right;\n",
       "    }\n",
       "</style>\n",
       "<table border=\"1\" class=\"dataframe\">\n",
       "  <thead>\n",
       "    <tr style=\"text-align: right;\">\n",
       "      <th></th>\n",
       "      <th>Model_name</th>\n",
       "      <th>batch_size</th>\n",
       "      <th>seq_len</th>\n",
       "      <th>embedding_size</th>\n",
       "      <th>hid_size</th>\n",
       "      <th>n_epochs</th>\n",
       "      <th>lr</th>\n",
       "      <th>gru</th>\n",
       "      <th>num_layers</th>\n",
       "    </tr>\n",
       "  </thead>\n",
       "  <tbody>\n",
       "    <tr>\n",
       "      <th>0</th>\n",
       "      <td>m2gru.pt</td>\n",
       "      <td>40</td>\n",
       "      <td>32</td>\n",
       "      <td>32</td>\n",
       "      <td>32</td>\n",
       "      <td>10</td>\n",
       "      <td>0.001</td>\n",
       "      <td>True</td>\n",
       "      <td>1</td>\n",
       "    </tr>\n",
       "    <tr>\n",
       "      <th>1</th>\n",
       "      <td>m2lstm.pt</td>\n",
       "      <td>40</td>\n",
       "      <td>32</td>\n",
       "      <td>32</td>\n",
       "      <td>32</td>\n",
       "      <td>10</td>\n",
       "      <td>0.001</td>\n",
       "      <td>False</td>\n",
       "      <td>1</td>\n",
       "    </tr>\n",
       "    <tr>\n",
       "      <th>2</th>\n",
       "      <td>m3gru.pt</td>\n",
       "      <td>40</td>\n",
       "      <td>32</td>\n",
       "      <td>32</td>\n",
       "      <td>64</td>\n",
       "      <td>20</td>\n",
       "      <td>0.001</td>\n",
       "      <td>True</td>\n",
       "      <td>1</td>\n",
       "    </tr>\n",
       "    <tr>\n",
       "      <th>3</th>\n",
       "      <td>m3lstm.pt</td>\n",
       "      <td>40</td>\n",
       "      <td>32</td>\n",
       "      <td>32</td>\n",
       "      <td>64</td>\n",
       "      <td>20</td>\n",
       "      <td>0.001</td>\n",
       "      <td>False</td>\n",
       "      <td>1</td>\n",
       "    </tr>\n",
       "    <tr>\n",
       "      <th>4</th>\n",
       "      <td>m4gru.pt</td>\n",
       "      <td>40</td>\n",
       "      <td>32</td>\n",
       "      <td>32</td>\n",
       "      <td>128</td>\n",
       "      <td>20</td>\n",
       "      <td>0.001</td>\n",
       "      <td>True</td>\n",
       "      <td>1</td>\n",
       "    </tr>\n",
       "    <tr>\n",
       "      <th>5</th>\n",
       "      <td>m4lstm.pt</td>\n",
       "      <td>40</td>\n",
       "      <td>32</td>\n",
       "      <td>32</td>\n",
       "      <td>128</td>\n",
       "      <td>20</td>\n",
       "      <td>0.001</td>\n",
       "      <td>False</td>\n",
       "      <td>1</td>\n",
       "    </tr>\n",
       "    <tr>\n",
       "      <th>6</th>\n",
       "      <td>m5gru.pt</td>\n",
       "      <td>40</td>\n",
       "      <td>32</td>\n",
       "      <td>128</td>\n",
       "      <td>32</td>\n",
       "      <td>20</td>\n",
       "      <td>0.001</td>\n",
       "      <td>True</td>\n",
       "      <td>1</td>\n",
       "    </tr>\n",
       "    <tr>\n",
       "      <th>7</th>\n",
       "      <td>m5lstm.pt</td>\n",
       "      <td>40</td>\n",
       "      <td>32</td>\n",
       "      <td>128</td>\n",
       "      <td>32</td>\n",
       "      <td>20</td>\n",
       "      <td>0.001</td>\n",
       "      <td>False</td>\n",
       "      <td>1</td>\n",
       "    </tr>\n",
       "    <tr>\n",
       "      <th>8</th>\n",
       "      <td>m6gru.pt</td>\n",
       "      <td>40</td>\n",
       "      <td>50</td>\n",
       "      <td>32</td>\n",
       "      <td>32</td>\n",
       "      <td>20</td>\n",
       "      <td>0.001</td>\n",
       "      <td>True</td>\n",
       "      <td>1</td>\n",
       "    </tr>\n",
       "    <tr>\n",
       "      <th>9</th>\n",
       "      <td>m6lstm.pt</td>\n",
       "      <td>40</td>\n",
       "      <td>50</td>\n",
       "      <td>32</td>\n",
       "      <td>32</td>\n",
       "      <td>20</td>\n",
       "      <td>0.001</td>\n",
       "      <td>False</td>\n",
       "      <td>1</td>\n",
       "    </tr>\n",
       "    <tr>\n",
       "      <th>10</th>\n",
       "      <td>m7gru.pt</td>\n",
       "      <td>40</td>\n",
       "      <td>32</td>\n",
       "      <td>32</td>\n",
       "      <td>32</td>\n",
       "      <td>20</td>\n",
       "      <td>0.001</td>\n",
       "      <td>False</td>\n",
       "      <td>10</td>\n",
       "    </tr>\n",
       "    <tr>\n",
       "      <th>11</th>\n",
       "      <td>m7lstm.pt</td>\n",
       "      <td>40</td>\n",
       "      <td>32</td>\n",
       "      <td>32</td>\n",
       "      <td>32</td>\n",
       "      <td>20</td>\n",
       "      <td>0.001</td>\n",
       "      <td>True</td>\n",
       "      <td>10</td>\n",
       "    </tr>\n",
       "    <tr>\n",
       "      <th>12</th>\n",
       "      <td>m8gru.pt</td>\n",
       "      <td>40</td>\n",
       "      <td>32</td>\n",
       "      <td>32</td>\n",
       "      <td>32</td>\n",
       "      <td>20</td>\n",
       "      <td>0.010</td>\n",
       "      <td>True</td>\n",
       "      <td>1</td>\n",
       "    </tr>\n",
       "    <tr>\n",
       "      <th>13</th>\n",
       "      <td>m8lstm.pt</td>\n",
       "      <td>40</td>\n",
       "      <td>32</td>\n",
       "      <td>32</td>\n",
       "      <td>32</td>\n",
       "      <td>20</td>\n",
       "      <td>0.010</td>\n",
       "      <td>False</td>\n",
       "      <td>1</td>\n",
       "    </tr>\n",
       "  </tbody>\n",
       "</table>\n",
       "</div>"
      ],
      "text/plain": [
       "   Model_name   batch_size   seq_len   embedding_size   hid_size   n_epochs  \\\n",
       "0    m2gru.pt           40        32               32         32         10   \n",
       "1   m2lstm.pt           40        32               32         32         10   \n",
       "2    m3gru.pt           40        32               32         64         20   \n",
       "3   m3lstm.pt           40        32               32         64         20   \n",
       "4    m4gru.pt           40        32               32        128         20   \n",
       "5   m4lstm.pt           40        32               32        128         20   \n",
       "6    m5gru.pt           40        32              128         32         20   \n",
       "7   m5lstm.pt           40        32              128         32         20   \n",
       "8    m6gru.pt           40        50               32         32         20   \n",
       "9   m6lstm.pt           40        50               32         32         20   \n",
       "10   m7gru.pt           40        32               32         32         20   \n",
       "11  m7lstm.pt           40        32               32         32         20   \n",
       "12   m8gru.pt           40        32               32         32         20   \n",
       "13  m8lstm.pt           40        32               32         32         20   \n",
       "\n",
       "       lr     gru   num_layers  \n",
       "0   0.001    True            1  \n",
       "1   0.001   False            1  \n",
       "2   0.001    True            1  \n",
       "3   0.001   False            1  \n",
       "4   0.001    True            1  \n",
       "5   0.001   False            1  \n",
       "6   0.001    True            1  \n",
       "7   0.001   False            1  \n",
       "8   0.001    True            1  \n",
       "9   0.001   False            1  \n",
       "10  0.001   False           10  \n",
       "11  0.001    True           10  \n",
       "12  0.010    True            1  \n",
       "13  0.010   False            1  "
      ]
     },
     "execution_count": 17,
     "metadata": {},
     "output_type": "execute_result"
    }
   ],
   "source": [
    "pd.read_csv('./models-outputs/hp_new.csv')"
   ]
  },
  {
   "cell_type": "code",
   "execution_count": null,
   "id": "ab449e27",
   "metadata": {},
   "outputs": [],
   "source": []
  }
 ],
 "metadata": {
  "kernelspec": {
   "display_name": "Python 3 (ipykernel)",
   "language": "python",
   "name": "python3"
  },
  "language_info": {
   "codemirror_mode": {
    "name": "ipython",
    "version": 3
   },
   "file_extension": ".py",
   "mimetype": "text/x-python",
   "name": "python",
   "nbconvert_exporter": "python",
   "pygments_lexer": "ipython3",
   "version": "3.9.6"
  }
 },
 "nbformat": 4,
 "nbformat_minor": 5
}
